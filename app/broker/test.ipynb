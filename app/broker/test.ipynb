{
 "cells": [
  {
   "cell_type": "code",
   "execution_count": 1,
   "metadata": {},
   "outputs": [
    {
     "name": "stdout",
     "output_type": "stream",
     "text": [
      "Requirement already satisfied: dydx-v3-python in /Users/hugodemenez/Git/base-python-architecture/.venv/lib/python3.9/site-packages (2.0.1)\n",
      "Requirement already satisfied: web3<6.0.0,>=5.0.0 in /Users/hugodemenez/Git/base-python-architecture/.venv/lib/python3.9/site-packages (from dydx-v3-python) (5.31.4)\n",
      "Requirement already satisfied: dateparser==1.0.0 in /Users/hugodemenez/Git/base-python-architecture/.venv/lib/python3.9/site-packages (from dydx-v3-python) (1.0.0)\n",
      "Requirement already satisfied: eth-account<0.6.0,>=0.4.0 in /Users/hugodemenez/Git/base-python-architecture/.venv/lib/python3.9/site-packages (from dydx-v3-python) (0.5.9)\n",
      "Requirement already satisfied: sympy==1.6 in /Users/hugodemenez/Git/base-python-architecture/.venv/lib/python3.9/site-packages (from dydx-v3-python) (1.6)\n",
      "Requirement already satisfied: eth-keys in /Users/hugodemenez/Git/base-python-architecture/.venv/lib/python3.9/site-packages (from dydx-v3-python) (0.3.4)\n",
      "Requirement already satisfied: mpmath==1.0.0 in /Users/hugodemenez/Git/base-python-architecture/.venv/lib/python3.9/site-packages (from dydx-v3-python) (1.0.0)\n",
      "Requirement already satisfied: requests<3.0.0,>=2.22.0 in /Users/hugodemenez/Git/base-python-architecture/.venv/lib/python3.9/site-packages (from dydx-v3-python) (2.31.0)\n",
      "Requirement already satisfied: aiohttp>=3.8.1 in /Users/hugodemenez/Git/base-python-architecture/.venv/lib/python3.9/site-packages (from dydx-v3-python) (3.8.4)\n",
      "Requirement already satisfied: cytoolz==0.12.1 in /Users/hugodemenez/Git/base-python-architecture/.venv/lib/python3.9/site-packages (from dydx-v3-python) (0.12.1)\n",
      "Requirement already satisfied: ecdsa>=0.16.0 in /Users/hugodemenez/Git/base-python-architecture/.venv/lib/python3.9/site-packages (from dydx-v3-python) (0.18.0)\n",
      "Requirement already satisfied: toolz>=0.8.0 in /Users/hugodemenez/Git/base-python-architecture/.venv/lib/python3.9/site-packages (from cytoolz==0.12.1->dydx-v3-python) (0.12.0)\n",
      "Requirement already satisfied: tzlocal in /Users/hugodemenez/Git/base-python-architecture/.venv/lib/python3.9/site-packages (from dateparser==1.0.0->dydx-v3-python) (5.0.1)\n",
      "Requirement already satisfied: pytz in /Users/hugodemenez/Git/base-python-architecture/.venv/lib/python3.9/site-packages (from dateparser==1.0.0->dydx-v3-python) (2023.3)\n",
      "Requirement already satisfied: regex!=2019.02.19 in /Users/hugodemenez/Git/base-python-architecture/.venv/lib/python3.9/site-packages (from dateparser==1.0.0->dydx-v3-python) (2023.6.3)\n",
      "Requirement already satisfied: python-dateutil in /Users/hugodemenez/Git/base-python-architecture/.venv/lib/python3.9/site-packages (from dateparser==1.0.0->dydx-v3-python) (2.8.2)\n",
      "Requirement already satisfied: attrs>=17.3.0 in /Users/hugodemenez/Git/base-python-architecture/.venv/lib/python3.9/site-packages (from aiohttp>=3.8.1->dydx-v3-python) (23.1.0)\n",
      "Requirement already satisfied: multidict<7.0,>=4.5 in /Users/hugodemenez/Git/base-python-architecture/.venv/lib/python3.9/site-packages (from aiohttp>=3.8.1->dydx-v3-python) (6.0.4)\n",
      "Requirement already satisfied: aiosignal>=1.1.2 in /Users/hugodemenez/Git/base-python-architecture/.venv/lib/python3.9/site-packages (from aiohttp>=3.8.1->dydx-v3-python) (1.3.1)\n",
      "Requirement already satisfied: yarl<2.0,>=1.0 in /Users/hugodemenez/Git/base-python-architecture/.venv/lib/python3.9/site-packages (from aiohttp>=3.8.1->dydx-v3-python) (1.9.2)\n",
      "Requirement already satisfied: async-timeout<5.0,>=4.0.0a3 in /Users/hugodemenez/Git/base-python-architecture/.venv/lib/python3.9/site-packages (from aiohttp>=3.8.1->dydx-v3-python) (4.0.2)\n",
      "Requirement already satisfied: frozenlist>=1.1.1 in /Users/hugodemenez/Git/base-python-architecture/.venv/lib/python3.9/site-packages (from aiohttp>=3.8.1->dydx-v3-python) (1.3.3)\n",
      "Requirement already satisfied: charset-normalizer<4.0,>=2.0 in /Users/hugodemenez/Git/base-python-architecture/.venv/lib/python3.9/site-packages (from aiohttp>=3.8.1->dydx-v3-python) (3.1.0)\n",
      "Requirement already satisfied: six>=1.9.0 in /Users/hugodemenez/Git/base-python-architecture/.venv/lib/python3.9/site-packages (from ecdsa>=0.16.0->dydx-v3-python) (1.16.0)\n",
      "Requirement already satisfied: eth-abi<3,>=2.0.0b7 in /Users/hugodemenez/Git/base-python-architecture/.venv/lib/python3.9/site-packages (from eth-account<0.6.0,>=0.4.0->dydx-v3-python) (2.2.0)\n",
      "Requirement already satisfied: bitarray<3,>=1.2.1 in /Users/hugodemenez/Git/base-python-architecture/.venv/lib/python3.9/site-packages (from eth-account<0.6.0,>=0.4.0->dydx-v3-python) (2.7.6)\n",
      "Requirement already satisfied: rlp<3,>=1.0.0 in /Users/hugodemenez/Git/base-python-architecture/.venv/lib/python3.9/site-packages (from eth-account<0.6.0,>=0.4.0->dydx-v3-python) (2.0.1)\n",
      "Requirement already satisfied: hexbytes<1,>=0.1.0 in /Users/hugodemenez/Git/base-python-architecture/.venv/lib/python3.9/site-packages (from eth-account<0.6.0,>=0.4.0->dydx-v3-python) (0.3.1)\n",
      "Requirement already satisfied: eth-rlp<2,>=0.1.2 in /Users/hugodemenez/Git/base-python-architecture/.venv/lib/python3.9/site-packages (from eth-account<0.6.0,>=0.4.0->dydx-v3-python) (0.2.1)\n",
      "Requirement already satisfied: eth-keyfile<0.6.0,>=0.5.0 in /Users/hugodemenez/Git/base-python-architecture/.venv/lib/python3.9/site-packages (from eth-account<0.6.0,>=0.4.0->dydx-v3-python) (0.5.1)\n",
      "Requirement already satisfied: eth-utils<2,>=1.3.0 in /Users/hugodemenez/Git/base-python-architecture/.venv/lib/python3.9/site-packages (from eth-account<0.6.0,>=0.4.0->dydx-v3-python) (1.9.5)\n",
      "Requirement already satisfied: eth-typing<3.0.0,>=2.2.1 in /Users/hugodemenez/Git/base-python-architecture/.venv/lib/python3.9/site-packages (from eth-keys->dydx-v3-python) (2.3.0)\n",
      "Requirement already satisfied: urllib3<3,>=1.21.1 in /Users/hugodemenez/Git/base-python-architecture/.venv/lib/python3.9/site-packages (from requests<3.0.0,>=2.22.0->dydx-v3-python) (2.0.3)\n",
      "Requirement already satisfied: idna<4,>=2.5 in /Users/hugodemenez/Git/base-python-architecture/.venv/lib/python3.9/site-packages (from requests<3.0.0,>=2.22.0->dydx-v3-python) (3.4)\n",
      "Requirement already satisfied: certifi>=2017.4.17 in /Users/hugodemenez/Git/base-python-architecture/.venv/lib/python3.9/site-packages (from requests<3.0.0,>=2.22.0->dydx-v3-python) (2023.5.7)\n",
      "Requirement already satisfied: protobuf==3.19.5 in /Users/hugodemenez/Git/base-python-architecture/.venv/lib/python3.9/site-packages (from web3<6.0.0,>=5.0.0->dydx-v3-python) (3.19.5)\n",
      "Requirement already satisfied: jsonschema<5,>=3.2.0 in /Users/hugodemenez/Git/base-python-architecture/.venv/lib/python3.9/site-packages (from web3<6.0.0,>=5.0.0->dydx-v3-python) (4.17.3)\n",
      "Requirement already satisfied: ipfshttpclient==0.8.0a2 in /Users/hugodemenez/Git/base-python-architecture/.venv/lib/python3.9/site-packages (from web3<6.0.0,>=5.0.0->dydx-v3-python) (0.8.0a2)\n",
      "Requirement already satisfied: websockets<10,>=9.1 in /Users/hugodemenez/Git/base-python-architecture/.venv/lib/python3.9/site-packages (from web3<6.0.0,>=5.0.0->dydx-v3-python) (9.1)\n",
      "Requirement already satisfied: lru-dict<2.0.0,>=1.1.6 in /Users/hugodemenez/Git/base-python-architecture/.venv/lib/python3.9/site-packages (from web3<6.0.0,>=5.0.0->dydx-v3-python) (1.2.0)\n",
      "Requirement already satisfied: eth-hash[pycryptodome]<1.0.0,>=0.2.0 in /Users/hugodemenez/Git/base-python-architecture/.venv/lib/python3.9/site-packages (from web3<6.0.0,>=5.0.0->dydx-v3-python) (0.5.2)\n",
      "Requirement already satisfied: multiaddr>=0.0.7 in /Users/hugodemenez/Git/base-python-architecture/.venv/lib/python3.9/site-packages (from ipfshttpclient==0.8.0a2->web3<6.0.0,>=5.0.0->dydx-v3-python) (0.0.9)\n",
      "Requirement already satisfied: parsimonious<0.9.0,>=0.8.0 in /Users/hugodemenez/Git/base-python-architecture/.venv/lib/python3.9/site-packages (from eth-abi<3,>=2.0.0b7->eth-account<0.6.0,>=0.4.0->dydx-v3-python) (0.8.1)\n",
      "Requirement already satisfied: pycryptodome<4,>=3.6.6 in /Users/hugodemenez/Git/base-python-architecture/.venv/lib/python3.9/site-packages (from eth-hash[pycryptodome]<1.0.0,>=0.2.0->web3<6.0.0,>=5.0.0->dydx-v3-python) (3.18.0)\n",
      "Requirement already satisfied: pyrsistent!=0.17.0,!=0.17.1,!=0.17.2,>=0.14.0 in /Users/hugodemenez/Git/base-python-architecture/.venv/lib/python3.9/site-packages (from jsonschema<5,>=3.2.0->web3<6.0.0,>=5.0.0->dydx-v3-python) (0.19.3)\n",
      "Requirement already satisfied: netaddr in /Users/hugodemenez/Git/base-python-architecture/.venv/lib/python3.9/site-packages (from multiaddr>=0.0.7->ipfshttpclient==0.8.0a2->web3<6.0.0,>=5.0.0->dydx-v3-python) (0.8.0)\n",
      "Requirement already satisfied: base58 in /Users/hugodemenez/Git/base-python-architecture/.venv/lib/python3.9/site-packages (from multiaddr>=0.0.7->ipfshttpclient==0.8.0a2->web3<6.0.0,>=5.0.0->dydx-v3-python) (2.1.1)\n",
      "Requirement already satisfied: varint in /Users/hugodemenez/Git/base-python-architecture/.venv/lib/python3.9/site-packages (from multiaddr>=0.0.7->ipfshttpclient==0.8.0a2->web3<6.0.0,>=5.0.0->dydx-v3-python) (1.0.2)\n",
      "\n",
      "\u001b[1m[\u001b[0m\u001b[34;49mnotice\u001b[0m\u001b[1;39;49m]\u001b[0m\u001b[39;49m A new release of pip available: \u001b[0m\u001b[31;49m22.3.1\u001b[0m\u001b[39;49m -> \u001b[0m\u001b[32;49m23.1.2\u001b[0m\n",
      "\u001b[1m[\u001b[0m\u001b[34;49mnotice\u001b[0m\u001b[1;39;49m]\u001b[0m\u001b[39;49m To update, run: \u001b[0m\u001b[32;49mpip install --upgrade pip\u001b[0m\n",
      "Note: you may need to restart the kernel to use updated packages.\n"
     ]
    }
   ],
   "source": [
    "%pip install dydx-v3-python"
   ]
  },
  {
   "cell_type": "code",
   "execution_count": 2,
   "metadata": {},
   "outputs": [],
   "source": [
    "from dydx3 import Client\n",
    "from web3 import Web3"
   ]
  },
  {
   "cell_type": "code",
   "execution_count": 10,
   "metadata": {},
   "outputs": [
    {
     "ename": "TypeError",
     "evalue": "'Response' object is not iterable",
     "output_type": "error",
     "traceback": [
      "\u001b[0;31m---------------------------------------------------------------------------\u001b[0m",
      "\u001b[0;31mTypeError\u001b[0m                                 Traceback (most recent call last)",
      "Cell \u001b[0;32mIn[10], line 8\u001b[0m\n\u001b[1;32m      3\u001b[0m client \u001b[39m=\u001b[39m Client(\n\u001b[1;32m      4\u001b[0m     host\u001b[39m=\u001b[39mHOST_URL,\n\u001b[1;32m      5\u001b[0m )\n\u001b[1;32m      7\u001b[0m markets \u001b[39m=\u001b[39m client\u001b[39m.\u001b[39mpublic\u001b[39m.\u001b[39mget_markets()\n\u001b[0;32m----> 8\u001b[0m \u001b[39mfor\u001b[39;00m market \u001b[39min\u001b[39;00m markets:\n\u001b[1;32m      9\u001b[0m     \u001b[39mprint\u001b[39m(market)\n",
      "\u001b[0;31mTypeError\u001b[0m: 'Response' object is not iterable"
     ]
    }
   ],
   "source": [
    "HOST_URL = \"https://api.stage.dydx.exchange\"\n",
    "\n",
    "client = Client(\n",
    "    host=HOST_URL,\n",
    ")\n",
    "\n",
    "markets = client.public.get_markets()\n",
    "for market in markets:\n",
    "    print(market)"
   ]
  }
 ],
 "metadata": {
  "kernelspec": {
   "display_name": ".venv",
   "language": "python",
   "name": "python3"
  },
  "language_info": {
   "codemirror_mode": {
    "name": "ipython",
    "version": 3
   },
   "file_extension": ".py",
   "mimetype": "text/x-python",
   "name": "python",
   "nbconvert_exporter": "python",
   "pygments_lexer": "ipython3",
   "version": "3.9.17"
  },
  "orig_nbformat": 4
 },
 "nbformat": 4,
 "nbformat_minor": 2
}

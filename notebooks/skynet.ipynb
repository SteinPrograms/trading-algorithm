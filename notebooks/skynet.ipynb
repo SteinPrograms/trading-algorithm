{
 "cells": [
  {
   "cell_type": "code",
   "execution_count": 1,
   "metadata": {},
   "outputs": [],
   "source": [
    "import requests"
   ]
  },
  {
   "cell_type": "code",
   "execution_count": 2,
   "metadata": {},
   "outputs": [],
   "source": [
    "url = r'https://skynet.certik.com/api/query-newsfeeds?skip=0&limit=10&isTrending=false'"
   ]
  },
  {
   "cell_type": "code",
   "execution_count": 3,
   "metadata": {},
   "outputs": [],
   "source": [
    "response = requests.get(url)"
   ]
  },
  {
   "cell_type": "code",
   "execution_count": 4,
   "metadata": {},
   "outputs": [
    {
     "data": {
      "text/plain": [
       "{'items': [{'title': 'Ethereum NFT volume approaches yearly high, following gas price surge',\n",
       "   'text': 'Non-fungible token (NFT) trading volumes on the Ethereum network have reached their highest levels in almost a year. NFT trading volumes have been at their highest weekly level since Feb. 26, 2023, according to the latest data from CryptoSlam. The…',\n",
       "   'publishedAt': '2024-02-12T11:42:15.000Z',\n",
       "   'threadID': '5783a7af-1940-4804-9d0c-0450ae87acaf',\n",
       "   'categories': None,\n",
       "   'ecosystems': None,\n",
       "   'image': 'https://certik-newsfeed.s3.amazonaws.com/images/5783a7af-1940-4804-9d0c-0450ae87acaf.jpg',\n",
       "   'originalImage': 'https://crypto.news/app/uploads/2024/02/crypto-news-Ethereum-option13-1.webp',\n",
       "   'url': 'https://crypto.news/ethereum-nft-volume-approaches-yearly-high-following-gas-price-surge/',\n",
       "   'site': 'crypto.news'},\n",
       "  {'title': 'Analyst bullish on Polkadot and Celestia, KangaMoon rallying',\n",
       "   'text': 'Polkadot (DOT) , Celestia (TIA), and KangaMoon (KANG) are garnering investor attention due to their growth potential',\n",
       "   'publishedAt': '2024-02-12T10:31:33.000Z',\n",
       "   'threadID': '3a1d30d3-83c5-45aa-9194-d35b9643500f',\n",
       "   'categories': None,\n",
       "   'ecosystems': None,\n",
       "   'image': 'https://certik-newsfeed.s3.amazonaws.com/images/3a1d30d3-83c5-45aa-9194-d35b9643500f.jpg',\n",
       "   'originalImage': 'https://crypto.news/app/uploads/2023/08/Astar-Foundation-launches-Polkadots-Relayers-Incubator-program02.png',\n",
       "   'url': 'https://crypto.news/analyst-bullish-on-polkadot-and-celestia-kangamoon-rallying/',\n",
       "   'site': 'crypto.news'},\n",
       "  {'title': 'Disney joins forces with Fortnite creator for $1.5b metaverse venture',\n",
       "   'text': 'Disney has embarked on a significant venture with Epic Games, the creator of Fortnite, to delve into the metaverse, a virtual space that is gaining traction in the tech and entertainment sectors. The collaboration involves Disney acquiring a $1.5 billion…',\n",
       "   'publishedAt': '2024-02-12T10:11:05.000Z',\n",
       "   'threadID': '7bc16ac0-3377-4fd9-8dd4-aacca6a2ae9e',\n",
       "   'categories': None,\n",
       "   'ecosystems': None,\n",
       "   'image': 'https://certik-newsfeed.s3.amazonaws.com/images/7bc16ac0-3377-4fd9-8dd4-aacca6a2ae9e.jpg',\n",
       "   'originalImage': 'https://crypto.news/app/uploads/2024/02/crypto-news-Disney-Fortnite-collaborate-on-Metaverse-option03.webp',\n",
       "   'url': 'https://crypto.news/disney-joins-forces-with-fortnite-creator-for-1-5b-metaverse-venture/',\n",
       "   'site': 'crypto.news'},\n",
       "  {'title': 'Sui, Aptos, and InQubeta to lead market in upcoming rally',\n",
       "   'text': 'Aptos, Sui, and InQubeta may post sharp growth in 2024. They have unique concepts and solid fundamentals',\n",
       "   'publishedAt': '2024-02-12T10:07:54.000Z',\n",
       "   'threadID': 'd4263a7e-a3d7-4f59-ace4-25a626ccad98',\n",
       "   'categories': None,\n",
       "   'ecosystems': None,\n",
       "   'image': 'https://certik-newsfeed.s3.amazonaws.com/images/d4263a7e-a3d7-4f59-ace4-25a626ccad98.jpg',\n",
       "   'originalImage': 'https://crypto.news/app/uploads/2024/01/crypto-news-ChainGPT-Introduces-a-Groundbreaking-AI-Trading-Assistant02.webp',\n",
       "   'url': 'https://crypto.news/sui-aptos-and-inqubeta-to-lead-market-in-upcoming-rally/',\n",
       "   'site': 'crypto.news'},\n",
       "  {'title': 'Chainlink Takes Over Dogecoin In Key Metric As Mysterious Whale Pushes LINK Upwards',\n",
       "   'text': 'Chainlink (LINK) is now experiencing three weeks of robust positive price activity, putting it well ahead of the overall cryptocurrency market. LINK’s price has skyrocketed over 48% since January 25, surpassing $20 on February 11 for the first time since February 2022. Related Reading: Chainlink Breeds New Whales As $49.9 Million Accumulation Spree Cause Prices To Surge Amidst this price surge, which saw the cryptocurrency moving closer to Dogecoin in market cap rankings, on-chain data has revealed a consistent whale accumulation. One whale, in particular, has accumulated $83.6 million worth o',\n",
       "   'publishedAt': '2024-02-12T09:30:56.000Z',\n",
       "   'threadID': '6425a036-fbfc-45d1-8dee-b06223caa1d9',\n",
       "   'categories': None,\n",
       "   'ecosystems': None,\n",
       "   'image': 'https://certik-newsfeed.s3.amazonaws.com/images/6425a036-fbfc-45d1-8dee-b06223caa1d9.jpg',\n",
       "   'originalImage': 'https://www.newsbtc.com/wp-content/uploads/2024/02/chainlink-link-linkusdt-link-price.png?fit=460%252C460',\n",
       "   'url': 'https://www.newsbtc.com/news/chainlink-takes-over-dogecoin-in-key-metric-as-mysterious-whale-pushes-link-upwards/',\n",
       "   'site': 'newsbtc.com'},\n",
       "  {'title': 'Sora Ventures launches $2 million Liquid Fund for Bitcoin Ordinals ecosystem',\n",
       "   'text': 'Venture capital firm Sora Ventures has launched a $2 million liquid fund focused on projects building within the TTP ecosystem. This ecosystem comprises several assets, including $TRAC, Tap Protocol, and\\xa0 $PIPE, and is the first decentralized indexer ecosystem powered by the Ordinals Protocol. UTXO Management, the team responsible for Bitcoin Magazine, leads the Sora TTP […] The post Sora Ventures launches $2 million Liquid Fund for Bitcoin Ordinals ecosystem appeared first on CryptoSlate.',\n",
       "   'publishedAt': '2024-02-12T09:30:11.000Z',\n",
       "   'threadID': '3603ecb4-57bc-48f6-ac2e-0a99311411cf',\n",
       "   'categories': None,\n",
       "   'ecosystems': None,\n",
       "   'image': 'https://certik-newsfeed.s3.amazonaws.com/images/3603ecb4-57bc-48f6-ac2e-0a99311411cf.jpg',\n",
       "   'originalImage': 'https://cryptoslate.com/wp-content/uploads/2024/02/bitcoin-ordinals.jpg',\n",
       "   'url': 'https://cryptoslate.com/sora-ventures-launches-2-million-liquid-fund-for-bitcoin-ordinals-ecosystem/',\n",
       "   'site': 'cryptoslate.com'},\n",
       "  {'title': 'Trader turns 1 ETH to $59k in hours with new ERC-404 token',\n",
       "   'text': 'An unknown trader turned 1 Ethereum (ETH) into almost $60,000 in hours. According to Lookonchain analysts, an unknown trader earned $59,000 from 1 ETH in 11 hours thanks to the ERC-404 MINER token. “His secret to making money is buying…',\n",
       "   'publishedAt': '2024-02-12T08:36:14.000Z',\n",
       "   'threadID': 'fccaacd4-78be-4dd8-a706-d8373e3565b6',\n",
       "   'categories': None,\n",
       "   'ecosystems': None,\n",
       "   'image': 'https://certik-newsfeed.s3.amazonaws.com/images/fccaacd4-78be-4dd8-a706-d8373e3565b6.jpg',\n",
       "   'originalImage': 'https://crypto.news/app/uploads/2023/08/AI-driven-innovation-will-fuel-more-stable-crypto-markets-_-Opinion05.png',\n",
       "   'url': 'https://crypto.news/trader-turns-1-eth-to-59k-in-hours-with-new-erc-404-token/',\n",
       "   'site': 'crypto.news'},\n",
       "  {'title': 'Nearly 90% of California crypto owners favor pro-crypto political candidate, Coinbase reveals',\n",
       "   'text': 'A Toluna study for Coinbase reveals that 4 in 5 California crypto owners would support a pro-crypto political candidate. A recent study conducted by Toluna on behalf of crypto exchange Coinbase has shed light on the widespread adoption of crypto…',\n",
       "   'publishedAt': '2024-02-12T08:28:19.000Z',\n",
       "   'threadID': '69c29c0e-1ecb-4b60-b8dc-8e87ae33487b',\n",
       "   'categories': None,\n",
       "   'ecosystems': None,\n",
       "   'image': 'https://certik-newsfeed.s3.amazonaws.com/images/69c29c0e-1ecb-4b60-b8dc-8e87ae33487b.jpg',\n",
       "   'originalImage': 'https://crypto.news/app/uploads/2023/11/crypto-news-Coinbase03.webp',\n",
       "   'url': 'https://crypto.news/nearly-90-of-california-crypto-owners-favor-pro-crypto-political-candidate-coinbase-reveals/',\n",
       "   'site': 'crypto.news'},\n",
       "  {'title': \"Bitcoin 'Stronger’ Ahead of Halving: Grayscale\",\n",
       "   'text': 'A slew of newer features means bitcoin is “evolving into something even more” than merely digital gold, a core investment thesis.',\n",
       "   'publishedAt': '2024-02-12T08:08:32.000Z',\n",
       "   'threadID': '39f5373c-c62f-40fe-a87d-6c73815b1c45',\n",
       "   'categories': None,\n",
       "   'ecosystems': None,\n",
       "   'image': 'https://certik-newsfeed.s3.amazonaws.com/images/39f5373c-c62f-40fe-a87d-6c73815b1c45.jpg',\n",
       "   'originalImage': 'https://www.coindesk.com/resizer/fn7VArscWS40YIqiFlb0KzCoeko=/800x600/cloudfront-us-east-1.images.arcpublishing.com/coindesk/2NBXX3LSLJATZPZQQC4SF5VYBI.jpg',\n",
       "   'url': 'https://www.coindesk.com/markets/2024/02/12/bitcoin-stronger-ahead-of-halving-grayscale/?utm_medium=referral&utm_source=rss&utm_campaign=headlines',\n",
       "   'site': 'coindesk.com'},\n",
       "  {'title': 'Rabbit Swap Introduces Innovative Cross-Chain Swap Solution',\n",
       "   'text': \"Rabbit Swap's strategy is committed to managing a vast network of liquidity sources, guaranteeing the most competitive swap rates.\",\n",
       "   'publishedAt': '2024-02-12T05:41:20.000Z',\n",
       "   'threadID': '40a1606d-9d82-4eb7-9bc4-8d1c97b4b961',\n",
       "   'categories': None,\n",
       "   'ecosystems': None,\n",
       "   'image': 'https://certik-newsfeed.s3.amazonaws.com/images/40a1606d-9d82-4eb7-9bc4-8d1c97b4b961.jpg',\n",
       "   'originalImage': 'https://www.attirer.io/content/images/2024/02/Rabbit-Swap-Introduces-Innovative-Cross-Chain-Swap-Solution.jpeg',\n",
       "   'url': 'https://www.attirer.io/rabbit-swap-introduces-innovative-cross-chain-swap-solution/',\n",
       "   'site': 'attirer.io'}],\n",
       " 'page': {'skip': 0, 'limit': 10, 'total': 186, 'hasMore': True}}"
      ]
     },
     "execution_count": 4,
     "metadata": {},
     "output_type": "execute_result"
    }
   ],
   "source": [
    "response.json()"
   ]
  },
  {
   "cell_type": "code",
   "execution_count": 5,
   "metadata": {},
   "outputs": [
    {
     "data": {
      "text/plain": [
       "[{'title': 'Ethereum NFT volume approaches yearly high, following gas price surge',\n",
       "  'text': 'Non-fungible token (NFT) trading volumes on the Ethereum network have reached their highest levels in almost a year. NFT trading volumes have been at their highest weekly level since Feb. 26, 2023, according to the latest data from CryptoSlam. The…',\n",
       "  'publishedAt': '2024-02-12T11:42:15.000Z',\n",
       "  'threadID': '5783a7af-1940-4804-9d0c-0450ae87acaf',\n",
       "  'categories': None,\n",
       "  'ecosystems': None,\n",
       "  'image': 'https://certik-newsfeed.s3.amazonaws.com/images/5783a7af-1940-4804-9d0c-0450ae87acaf.jpg',\n",
       "  'originalImage': 'https://crypto.news/app/uploads/2024/02/crypto-news-Ethereum-option13-1.webp',\n",
       "  'url': 'https://crypto.news/ethereum-nft-volume-approaches-yearly-high-following-gas-price-surge/',\n",
       "  'site': 'crypto.news'},\n",
       " {'title': 'Analyst bullish on Polkadot and Celestia, KangaMoon rallying',\n",
       "  'text': 'Polkadot (DOT) , Celestia (TIA), and KangaMoon (KANG) are garnering investor attention due to their growth potential',\n",
       "  'publishedAt': '2024-02-12T10:31:33.000Z',\n",
       "  'threadID': '3a1d30d3-83c5-45aa-9194-d35b9643500f',\n",
       "  'categories': None,\n",
       "  'ecosystems': None,\n",
       "  'image': 'https://certik-newsfeed.s3.amazonaws.com/images/3a1d30d3-83c5-45aa-9194-d35b9643500f.jpg',\n",
       "  'originalImage': 'https://crypto.news/app/uploads/2023/08/Astar-Foundation-launches-Polkadots-Relayers-Incubator-program02.png',\n",
       "  'url': 'https://crypto.news/analyst-bullish-on-polkadot-and-celestia-kangamoon-rallying/',\n",
       "  'site': 'crypto.news'},\n",
       " {'title': 'Disney joins forces with Fortnite creator for $1.5b metaverse venture',\n",
       "  'text': 'Disney has embarked on a significant venture with Epic Games, the creator of Fortnite, to delve into the metaverse, a virtual space that is gaining traction in the tech and entertainment sectors. The collaboration involves Disney acquiring a $1.5 billion…',\n",
       "  'publishedAt': '2024-02-12T10:11:05.000Z',\n",
       "  'threadID': '7bc16ac0-3377-4fd9-8dd4-aacca6a2ae9e',\n",
       "  'categories': None,\n",
       "  'ecosystems': None,\n",
       "  'image': 'https://certik-newsfeed.s3.amazonaws.com/images/7bc16ac0-3377-4fd9-8dd4-aacca6a2ae9e.jpg',\n",
       "  'originalImage': 'https://crypto.news/app/uploads/2024/02/crypto-news-Disney-Fortnite-collaborate-on-Metaverse-option03.webp',\n",
       "  'url': 'https://crypto.news/disney-joins-forces-with-fortnite-creator-for-1-5b-metaverse-venture/',\n",
       "  'site': 'crypto.news'},\n",
       " {'title': 'Sui, Aptos, and InQubeta to lead market in upcoming rally',\n",
       "  'text': 'Aptos, Sui, and InQubeta may post sharp growth in 2024. They have unique concepts and solid fundamentals',\n",
       "  'publishedAt': '2024-02-12T10:07:54.000Z',\n",
       "  'threadID': 'd4263a7e-a3d7-4f59-ace4-25a626ccad98',\n",
       "  'categories': None,\n",
       "  'ecosystems': None,\n",
       "  'image': 'https://certik-newsfeed.s3.amazonaws.com/images/d4263a7e-a3d7-4f59-ace4-25a626ccad98.jpg',\n",
       "  'originalImage': 'https://crypto.news/app/uploads/2024/01/crypto-news-ChainGPT-Introduces-a-Groundbreaking-AI-Trading-Assistant02.webp',\n",
       "  'url': 'https://crypto.news/sui-aptos-and-inqubeta-to-lead-market-in-upcoming-rally/',\n",
       "  'site': 'crypto.news'},\n",
       " {'title': 'Chainlink Takes Over Dogecoin In Key Metric As Mysterious Whale Pushes LINK Upwards',\n",
       "  'text': 'Chainlink (LINK) is now experiencing three weeks of robust positive price activity, putting it well ahead of the overall cryptocurrency market. LINK’s price has skyrocketed over 48% since January 25, surpassing $20 on February 11 for the first time since February 2022. Related Reading: Chainlink Breeds New Whales As $49.9 Million Accumulation Spree Cause Prices To Surge Amidst this price surge, which saw the cryptocurrency moving closer to Dogecoin in market cap rankings, on-chain data has revealed a consistent whale accumulation. One whale, in particular, has accumulated $83.6 million worth o',\n",
       "  'publishedAt': '2024-02-12T09:30:56.000Z',\n",
       "  'threadID': '6425a036-fbfc-45d1-8dee-b06223caa1d9',\n",
       "  'categories': None,\n",
       "  'ecosystems': None,\n",
       "  'image': 'https://certik-newsfeed.s3.amazonaws.com/images/6425a036-fbfc-45d1-8dee-b06223caa1d9.jpg',\n",
       "  'originalImage': 'https://www.newsbtc.com/wp-content/uploads/2024/02/chainlink-link-linkusdt-link-price.png?fit=460%252C460',\n",
       "  'url': 'https://www.newsbtc.com/news/chainlink-takes-over-dogecoin-in-key-metric-as-mysterious-whale-pushes-link-upwards/',\n",
       "  'site': 'newsbtc.com'},\n",
       " {'title': 'Sora Ventures launches $2 million Liquid Fund for Bitcoin Ordinals ecosystem',\n",
       "  'text': 'Venture capital firm Sora Ventures has launched a $2 million liquid fund focused on projects building within the TTP ecosystem. This ecosystem comprises several assets, including $TRAC, Tap Protocol, and\\xa0 $PIPE, and is the first decentralized indexer ecosystem powered by the Ordinals Protocol. UTXO Management, the team responsible for Bitcoin Magazine, leads the Sora TTP […] The post Sora Ventures launches $2 million Liquid Fund for Bitcoin Ordinals ecosystem appeared first on CryptoSlate.',\n",
       "  'publishedAt': '2024-02-12T09:30:11.000Z',\n",
       "  'threadID': '3603ecb4-57bc-48f6-ac2e-0a99311411cf',\n",
       "  'categories': None,\n",
       "  'ecosystems': None,\n",
       "  'image': 'https://certik-newsfeed.s3.amazonaws.com/images/3603ecb4-57bc-48f6-ac2e-0a99311411cf.jpg',\n",
       "  'originalImage': 'https://cryptoslate.com/wp-content/uploads/2024/02/bitcoin-ordinals.jpg',\n",
       "  'url': 'https://cryptoslate.com/sora-ventures-launches-2-million-liquid-fund-for-bitcoin-ordinals-ecosystem/',\n",
       "  'site': 'cryptoslate.com'},\n",
       " {'title': 'Trader turns 1 ETH to $59k in hours with new ERC-404 token',\n",
       "  'text': 'An unknown trader turned 1 Ethereum (ETH) into almost $60,000 in hours. According to Lookonchain analysts, an unknown trader earned $59,000 from 1 ETH in 11 hours thanks to the ERC-404 MINER token. “His secret to making money is buying…',\n",
       "  'publishedAt': '2024-02-12T08:36:14.000Z',\n",
       "  'threadID': 'fccaacd4-78be-4dd8-a706-d8373e3565b6',\n",
       "  'categories': None,\n",
       "  'ecosystems': None,\n",
       "  'image': 'https://certik-newsfeed.s3.amazonaws.com/images/fccaacd4-78be-4dd8-a706-d8373e3565b6.jpg',\n",
       "  'originalImage': 'https://crypto.news/app/uploads/2023/08/AI-driven-innovation-will-fuel-more-stable-crypto-markets-_-Opinion05.png',\n",
       "  'url': 'https://crypto.news/trader-turns-1-eth-to-59k-in-hours-with-new-erc-404-token/',\n",
       "  'site': 'crypto.news'},\n",
       " {'title': 'Nearly 90% of California crypto owners favor pro-crypto political candidate, Coinbase reveals',\n",
       "  'text': 'A Toluna study for Coinbase reveals that 4 in 5 California crypto owners would support a pro-crypto political candidate. A recent study conducted by Toluna on behalf of crypto exchange Coinbase has shed light on the widespread adoption of crypto…',\n",
       "  'publishedAt': '2024-02-12T08:28:19.000Z',\n",
       "  'threadID': '69c29c0e-1ecb-4b60-b8dc-8e87ae33487b',\n",
       "  'categories': None,\n",
       "  'ecosystems': None,\n",
       "  'image': 'https://certik-newsfeed.s3.amazonaws.com/images/69c29c0e-1ecb-4b60-b8dc-8e87ae33487b.jpg',\n",
       "  'originalImage': 'https://crypto.news/app/uploads/2023/11/crypto-news-Coinbase03.webp',\n",
       "  'url': 'https://crypto.news/nearly-90-of-california-crypto-owners-favor-pro-crypto-political-candidate-coinbase-reveals/',\n",
       "  'site': 'crypto.news'},\n",
       " {'title': \"Bitcoin 'Stronger’ Ahead of Halving: Grayscale\",\n",
       "  'text': 'A slew of newer features means bitcoin is “evolving into something even more” than merely digital gold, a core investment thesis.',\n",
       "  'publishedAt': '2024-02-12T08:08:32.000Z',\n",
       "  'threadID': '39f5373c-c62f-40fe-a87d-6c73815b1c45',\n",
       "  'categories': None,\n",
       "  'ecosystems': None,\n",
       "  'image': 'https://certik-newsfeed.s3.amazonaws.com/images/39f5373c-c62f-40fe-a87d-6c73815b1c45.jpg',\n",
       "  'originalImage': 'https://www.coindesk.com/resizer/fn7VArscWS40YIqiFlb0KzCoeko=/800x600/cloudfront-us-east-1.images.arcpublishing.com/coindesk/2NBXX3LSLJATZPZQQC4SF5VYBI.jpg',\n",
       "  'url': 'https://www.coindesk.com/markets/2024/02/12/bitcoin-stronger-ahead-of-halving-grayscale/?utm_medium=referral&utm_source=rss&utm_campaign=headlines',\n",
       "  'site': 'coindesk.com'},\n",
       " {'title': 'Rabbit Swap Introduces Innovative Cross-Chain Swap Solution',\n",
       "  'text': \"Rabbit Swap's strategy is committed to managing a vast network of liquidity sources, guaranteeing the most competitive swap rates.\",\n",
       "  'publishedAt': '2024-02-12T05:41:20.000Z',\n",
       "  'threadID': '40a1606d-9d82-4eb7-9bc4-8d1c97b4b961',\n",
       "  'categories': None,\n",
       "  'ecosystems': None,\n",
       "  'image': 'https://certik-newsfeed.s3.amazonaws.com/images/40a1606d-9d82-4eb7-9bc4-8d1c97b4b961.jpg',\n",
       "  'originalImage': 'https://www.attirer.io/content/images/2024/02/Rabbit-Swap-Introduces-Innovative-Cross-Chain-Swap-Solution.jpeg',\n",
       "  'url': 'https://www.attirer.io/rabbit-swap-introduces-innovative-cross-chain-swap-solution/',\n",
       "  'site': 'attirer.io'}]"
      ]
     },
     "execution_count": 5,
     "metadata": {},
     "output_type": "execute_result"
    }
   ],
   "source": [
    "response.json().get('items')"
   ]
  },
  {
   "cell_type": "code",
   "execution_count": 6,
   "metadata": {},
   "outputs": [
    {
     "name": "stderr",
     "output_type": "stream",
     "text": [
      "/Users/hugodemenez/P/trading-algorithm/.venv/lib/python3.12/site-packages/tqdm/auto.py:21: TqdmWarning: IProgress not found. Please update jupyter and ipywidgets. See https://ipywidgets.readthedocs.io/en/stable/user_install.html\n",
      "  from .autonotebook import tqdm as notebook_tqdm\n",
      "config.json: 100%|██████████| 932/932 [00:00<00:00, 781kB/s]\n",
      "pytorch_model.bin: 100%|██████████| 499M/499M [00:12<00:00, 39.3MB/s] \n",
      "tokenizer_config.json: 100%|██████████| 1.35k/1.35k [00:00<00:00, 14.9MB/s]\n",
      "vocab.json: 100%|██████████| 798k/798k [00:00<00:00, 2.37MB/s]\n",
      "merges.txt: 100%|██████████| 456k/456k [00:00<00:00, 5.70MB/s]\n",
      "tokenizer.json: 100%|██████████| 2.11M/2.11M [00:00<00:00, 19.4MB/s]\n",
      "special_tokens_map.json: 100%|██████████| 957/957 [00:00<00:00, 3.65MB/s]\n"
     ]
    },
    {
     "data": {
      "text/plain": [
       "[{'label': 'Bullish', 'score': 0.7867984771728516}]"
      ]
     },
     "execution_count": 6,
     "metadata": {},
     "output_type": "execute_result"
    }
   ],
   "source": [
    "# Use a pipeline as a high-level helper\n",
    "from transformers import pipeline\n",
    "\n",
    "pipe = pipeline(\"text-classification\", model=\"ElKulako/cryptobert\")\n",
    "\n",
    "pipe(\"Bitcoin is the best cryptocurrency\")"
   ]
  },
  {
   "cell_type": "code",
   "execution_count": 9,
   "metadata": {},
   "outputs": [
    {
     "data": {
      "text/plain": [
       "[{'label': 'Neutral', 'score': 0.8241192698478699}]"
      ]
     },
     "execution_count": 9,
     "metadata": {},
     "output_type": "execute_result"
    }
   ],
   "source": [
    "pipe(\"Non-fungible token (NFT) trading volumes on the Ethereum network have reached their highest levels in almost a year. NFT trading volumes have been at their highest weekly level since Feb. 26, 2023, according to the latest data from CryptoSlam.\")"
   ]
  }
 ],
 "metadata": {
  "kernelspec": {
   "display_name": ".venv",
   "language": "python",
   "name": "python3"
  },
  "language_info": {
   "codemirror_mode": {
    "name": "ipython",
    "version": 3
   },
   "file_extension": ".py",
   "mimetype": "text/x-python",
   "name": "python",
   "nbconvert_exporter": "python",
   "pygments_lexer": "ipython3",
   "version": "3.12.1"
  }
 },
 "nbformat": 4,
 "nbformat_minor": 2
}
